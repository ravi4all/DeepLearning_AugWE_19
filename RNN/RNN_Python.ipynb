{
 "cells": [
  {
   "cell_type": "code",
   "execution_count": 37,
   "metadata": {},
   "outputs": [],
   "source": [
    "import numpy as np\n",
    "import copy"
   ]
  },
  {
   "cell_type": "code",
   "execution_count": 2,
   "metadata": {},
   "outputs": [],
   "source": [
    "def sigmoid(x):\n",
    "    return 1 / (1 + np.exp(-x))"
   ]
  },
  {
   "cell_type": "code",
   "execution_count": 3,
   "metadata": {},
   "outputs": [],
   "source": [
    "def derivativeSigmoid(x):\n",
    "    return x * (1 - x)"
   ]
  },
  {
   "cell_type": "code",
   "execution_count": 4,
   "metadata": {},
   "outputs": [],
   "source": [
    "int2binary = {}\n",
    "binary_dim = 8\n",
    "\n",
    "largest_number = pow(2,binary_dim)"
   ]
  },
  {
   "cell_type": "code",
   "execution_count": 30,
   "metadata": {},
   "outputs": [],
   "source": [
    "binary = np.unpackbits(np.array([range(largest_number)], dtype=np.uint8).T, axis=1)"
   ]
  },
  {
   "cell_type": "code",
   "execution_count": 31,
   "metadata": {},
   "outputs": [
    {
     "data": {
      "text/plain": [
       "array([[0, 0, 0, ..., 0, 0, 0],\n",
       "       [0, 0, 0, ..., 0, 0, 1],\n",
       "       [0, 0, 0, ..., 0, 1, 0],\n",
       "       ...,\n",
       "       [1, 1, 1, ..., 1, 0, 1],\n",
       "       [1, 1, 1, ..., 1, 1, 0],\n",
       "       [1, 1, 1, ..., 1, 1, 1]], dtype=uint8)"
      ]
     },
     "execution_count": 31,
     "metadata": {},
     "output_type": "execute_result"
    }
   ],
   "source": [
    "binary"
   ]
  },
  {
   "cell_type": "code",
   "execution_count": 32,
   "metadata": {},
   "outputs": [
    {
     "data": {
      "text/plain": [
       "(256, 8)"
      ]
     },
     "execution_count": 32,
     "metadata": {},
     "output_type": "execute_result"
    }
   ],
   "source": [
    "binary.shape"
   ]
  },
  {
   "cell_type": "code",
   "execution_count": 33,
   "metadata": {},
   "outputs": [],
   "source": [
    "for i in range(largest_number):\n",
    "    int2binary[i] = binary[i]"
   ]
  },
  {
   "cell_type": "code",
   "execution_count": 22,
   "metadata": {},
   "outputs": [],
   "source": [
    "# int2binary"
   ]
  },
  {
   "cell_type": "code",
   "execution_count": 34,
   "metadata": {},
   "outputs": [],
   "source": [
    "alpha = 0.1\n",
    "input_dim = 2\n",
    "hidden_dim = 16\n",
    "output_dim = 1"
   ]
  },
  {
   "cell_type": "code",
   "execution_count": 48,
   "metadata": {},
   "outputs": [],
   "source": [
    "# weights for hidden layer\n",
    "weight_hidden = np.random.random((input_dim, hidden_dim))\n",
    "\n",
    "# weights for output layer\n",
    "weight_output = np.random.random((hidden_dim, output_dim))\n",
    "\n",
    "# weights that connect hidden layer in previous time step to the hidden layer in current time step\n",
    "# it also connect hidden layer in current time step to hidden layer in next time step\n",
    "weight_time = np.random.random((hidden_dim, hidden_dim))"
   ]
  },
  {
   "cell_type": "code",
   "execution_count": 49,
   "metadata": {},
   "outputs": [],
   "source": [
    "weight_hidden_update = np.zeros_like(weight_hidden)\n",
    "weight_output_update = np.zeros_like(weight_output)\n",
    "weight_time_update = np.zeros_like(weight_time)"
   ]
  },
  {
   "cell_type": "code",
   "execution_count": 50,
   "metadata": {},
   "outputs": [
    {
     "name": "stdout",
     "output_type": "stream",
     "text": [
      "Error [6.99651326]\n",
      "Pred [1 1 1 1 1 1 1 1]\n",
      "True [1 0 0 0 0 0 0 0]\n",
      "125 + 3 = 255\n",
      "---------------------------\n",
      "Error [3.78270064]\n",
      "Pred [1 1 1 1 1 1 1 0]\n",
      "True [1 1 1 1 0 1 0 0]\n",
      "119 + 125 = 254\n",
      "---------------------------\n",
      "Error [2.34075236]\n",
      "Pred [0 0 1 1 1 1 1 0]\n",
      "True [0 0 1 0 1 1 1 0]\n",
      "33 + 13 = 62\n",
      "---------------------------\n",
      "Error [0.55480596]\n",
      "Pred [1 0 1 1 1 1 0 1]\n",
      "True [1 0 1 1 1 1 0 1]\n",
      "104 + 85 = 189\n",
      "---------------------------\n",
      "Error [0.30976701]\n",
      "Pred [1 1 0 1 0 1 1 1]\n",
      "True [1 1 0 1 0 1 1 1]\n",
      "94 + 121 = 215\n",
      "---------------------------\n",
      "Error [0.17628169]\n",
      "Pred [0 0 0 1 0 1 1 0]\n",
      "True [0 0 0 1 0 1 1 0]\n",
      "18 + 4 = 22\n",
      "---------------------------\n",
      "Error [0.05795546]\n",
      "Pred [0 1 0 0 1 1 0 0]\n",
      "True [0 1 0 0 1 1 0 0]\n",
      "74 + 2 = 76\n",
      "---------------------------\n",
      "Error [0.11840709]\n",
      "Pred [1 0 1 1 1 0 0 0]\n",
      "True [1 0 1 1 1 0 0 0]\n",
      "87 + 97 = 184\n",
      "---------------------------\n",
      "Error [0.07950283]\n",
      "Pred [1 1 0 1 1 0 1 0]\n",
      "True [1 1 0 1 1 0 1 0]\n",
      "119 + 99 = 218\n",
      "---------------------------\n",
      "Error [0.06205393]\n",
      "Pred [1 1 0 0 1 1 0 1]\n",
      "True [1 1 0 0 1 1 0 1]\n",
      "124 + 81 = 205\n",
      "---------------------------\n"
     ]
    }
   ],
   "source": [
    "epochs = 100000\n",
    "for epoch in range(epochs):\n",
    "    a_int = np.random.randint(largest_number/2)\n",
    "    a = int2binary[a_int]\n",
    "    b_int = np.random.randint(largest_number/2)\n",
    "    b = int2binary[b_int]\n",
    "    \n",
    "    c_int = a_int + b_int\n",
    "    c = int2binary[c_int]\n",
    "    \n",
    "    d = np.zeros_like(c)\n",
    "    overallError = 0\n",
    "    \n",
    "    layer_1_values = list()\n",
    "    layer_2_deltas = list()\n",
    "    layer_1_values.append(np.zeros(hidden_dim))\n",
    "    \n",
    "    for position in range(binary_dim):\n",
    "        X = np.array([[a[binary_dim - position - 1], b[binary_dim - position - 1]]])\n",
    "        y = np.array([[c[binary_dim - position - 1]]]).T\n",
    "        \n",
    "        # hidden layer\n",
    "        layer_1 = sigmoid(np.dot(X,weight_hidden) + np.dot(layer_1_values[-1], weight_time))\n",
    "        \n",
    "        # output Layer\n",
    "        layer_2 = sigmoid(np.dot(layer_1, weight_output))\n",
    "        \n",
    "        layer_2_error = y - layer_2\n",
    "        layer_2_deltas.append((layer_2_error) * derivativeSigmoid(layer_2))\n",
    "        \n",
    "        overallError += np.abs(layer_2_error[0])\n",
    "        \n",
    "        d[binary_dim - position - 1] = np.round(layer_2[0][0])\n",
    "        \n",
    "        # store hidden layer so we can use it in next time step\n",
    "        layer_1_values.append(copy.deepcopy(layer_1))\n",
    "        \n",
    "    future_layer_1_delta = np.zeros(hidden_dim)\n",
    "    \n",
    "    for position in range(binary_dim):\n",
    "        X = np.array([[a[position], b[position]]])\n",
    "        layer_1 = layer_1_values[-position - 1]\n",
    "        prev_layer_1 = layer_1_values[-position - 2]\n",
    "        \n",
    "        # error at output layer\n",
    "        layer_2_delta = layer_2_deltas[-position-1]\n",
    "        \n",
    "        # error at hidden layer\n",
    "        layer_1_delta = (future_layer_1_delta.dot(weight_time.T) + layer_2_delta.dot(weight_output.T)) * derivativeSigmoid(layer_1)\n",
    "        \n",
    "        weight_output_update += np.atleast_2d(layer_1).T.dot(layer_2_delta)\n",
    "        weight_time_update += np.atleast_2d(prev_layer_1).T.dot(layer_1_delta)\n",
    "        weight_hidden_update += X.T.dot(layer_1_delta)\n",
    "        \n",
    "        future_layer_1_delta = layer_1_delta\n",
    "        \n",
    "    weight_hidden += weight_hidden_update * alpha\n",
    "    weight_output += weight_output_update * alpha\n",
    "    weight_time += weight_time_update * alpha\n",
    "    \n",
    "    weight_hidden_update *= 0\n",
    "    weight_output_update *= 0\n",
    "    weight_time_update *= 0\n",
    "    \n",
    "    if(epoch%10000 == 0):\n",
    "        print(\"Error\",overallError)\n",
    "        print(\"Pred\",d)\n",
    "        print(\"True\",c)\n",
    "        out = 0\n",
    "        for index, x in enumerate(reversed(d)):\n",
    "            out += x*pow(2, index)\n",
    "        print(\"{} + {} = {}\".format(a_int,b_int,out))\n",
    "        print(\"---------------------------\")\n",
    "    "
   ]
  },
  {
   "cell_type": "code",
   "execution_count": null,
   "metadata": {},
   "outputs": [],
   "source": []
  }
 ],
 "metadata": {
  "kernelspec": {
   "display_name": "Python 3",
   "language": "python",
   "name": "python3"
  },
  "language_info": {
   "codemirror_mode": {
    "name": "ipython",
    "version": 3
   },
   "file_extension": ".py",
   "mimetype": "text/x-python",
   "name": "python",
   "nbconvert_exporter": "python",
   "pygments_lexer": "ipython3",
   "version": "3.7.3"
  }
 },
 "nbformat": 4,
 "nbformat_minor": 2
}
