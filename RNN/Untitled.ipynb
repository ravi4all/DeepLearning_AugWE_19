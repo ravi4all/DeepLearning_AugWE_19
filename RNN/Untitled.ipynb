{
 "cells": [
  {
   "cell_type": "code",
   "execution_count": 1,
   "metadata": {},
   "outputs": [],
   "source": [
    "import numpy as np\n",
    "import copy"
   ]
  },
  {
   "cell_type": "code",
   "execution_count": 2,
   "metadata": {},
   "outputs": [],
   "source": [
    "def sigmoid(x):\n",
    "    return 1 / (1 + np.exp(-x))"
   ]
  },
  {
   "cell_type": "code",
   "execution_count": 3,
   "metadata": {},
   "outputs": [],
   "source": [
    "def derivativeSigmoid(x):\n",
    "    return x * (1 - x)"
   ]
  },
  {
   "cell_type": "code",
   "execution_count": 32,
   "metadata": {},
   "outputs": [],
   "source": [
    "int2binary = {}\n",
    "binary_dim = 8\n",
    "# it will compute the largest number that is possible to represent with binary dim 8\n",
    "largest_num = pow(2,binary_dim)\n",
    "\n",
    "# it will create a table that will map an int to its binary form\n",
    "binary = np.unpackbits(np.array([range(largest_num)], dtype=np.uint8).T, axis=1)\n",
    "\n",
    "for i in range(largest_num):\n",
    "    int2binary[i] = binary[i]"
   ]
  },
  {
   "cell_type": "code",
   "execution_count": 33,
   "metadata": {},
   "outputs": [
    {
     "data": {
      "text/plain": [
       "256"
      ]
     },
     "execution_count": 33,
     "metadata": {},
     "output_type": "execute_result"
    }
   ],
   "source": [
    "largest_num"
   ]
  },
  {
   "cell_type": "code",
   "execution_count": 34,
   "metadata": {},
   "outputs": [
    {
     "data": {
      "text/plain": [
       "array([[0, 0, 0, ..., 0, 0, 0],\n",
       "       [0, 0, 0, ..., 0, 0, 1],\n",
       "       [0, 0, 0, ..., 0, 1, 0],\n",
       "       ...,\n",
       "       [1, 1, 1, ..., 1, 0, 1],\n",
       "       [1, 1, 1, ..., 1, 1, 0],\n",
       "       [1, 1, 1, ..., 1, 1, 1]], dtype=uint8)"
      ]
     },
     "execution_count": 34,
     "metadata": {},
     "output_type": "execute_result"
    }
   ],
   "source": [
    "binary"
   ]
  },
  {
   "cell_type": "code",
   "execution_count": 35,
   "metadata": {},
   "outputs": [
    {
     "data": {
      "text/plain": [
       "array([0, 0, 0, 0, 1, 0, 1, 1], dtype=uint8)"
      ]
     },
     "execution_count": 35,
     "metadata": {},
     "output_type": "execute_result"
    }
   ],
   "source": [
    "int2binary[11]"
   ]
  },
  {
   "cell_type": "code",
   "execution_count": 36,
   "metadata": {},
   "outputs": [],
   "source": [
    "learning_rate = 0.1\n",
    "input_neurons = 2\n",
    "hidden_neurons = 16\n",
    "output_neuron = 1"
   ]
  },
  {
   "cell_type": "code",
   "execution_count": 37,
   "metadata": {},
   "outputs": [],
   "source": [
    "wh = 2 * np.random.random((input_neurons,hidden_neurons)) - 1\n",
    "wout = 2 * np.random.random((hidden_neurons,output_neuron)) - 1\n",
    "w_time = 2 * np.random.random((hidden_neurons,hidden_neurons)) - 1\n",
    "\n",
    "wh_update = np.zeros_like(wh)\n",
    "wout_update = np.zeros_like(wout)\n",
    "wtime_update = np.zeros_like(w_time)"
   ]
  },
  {
   "cell_type": "code",
   "execution_count": 38,
   "metadata": {},
   "outputs": [
    {
     "name": "stdout",
     "output_type": "stream",
     "text": [
      "Error [3.88347099]\n",
      "Pred [1 1 1 1 1 1 1 0]\n",
      "True [0 1 1 1 0 0 1 1]\n",
      "True - 91 + 24 = 115\n",
      "Pred - 91 + 24 = 254\n",
      "#####################\n",
      "Error [4.]\n",
      "Pred [0 0 0 0 0 0 0 0]\n",
      "True [0 0 1 1 0 1 0 1]\n",
      "True - 30 + 23 = 53\n",
      "Pred - 30 + 23 = 0\n",
      "#####################\n",
      "Error [3.72349228]\n",
      "Pred [1 1 1 1 1 1 1 1]\n",
      "True [1 0 0 1 1 1 1 0]\n",
      "True - 56 + 102 = 158\n",
      "Pred - 56 + 102 = 255\n",
      "#####################\n",
      "Error [4.]\n",
      "Pred [0 0 0 0 0 0 0 0]\n",
      "True [1 0 0 0 1 0 1 1]\n",
      "True - 26 + 113 = 139\n",
      "Pred - 26 + 113 = 0\n",
      "#####################\n",
      "Error [4.]\n",
      "Pred [1 1 1 1 1 1 1 1]\n",
      "True [0 0 0 0 1 1 1 1]\n",
      "True - 4 + 11 = 15\n",
      "Pred - 4 + 11 = 255\n",
      "#####################\n",
      "Error [4.18943233]\n",
      "Pred [0 0 0 0 0 0 0 0]\n",
      "True [0 1 0 1 1 1 0 1]\n",
      "True - 41 + 52 = 93\n",
      "Pred - 41 + 52 = 0\n",
      "#####################\n"
     ]
    },
    {
     "ename": "KeyboardInterrupt",
     "evalue": "",
     "output_type": "error",
     "traceback": [
      "\u001b[1;31m---------------------------------------------------------------------------\u001b[0m",
      "\u001b[1;31mKeyboardInterrupt\u001b[0m                         Traceback (most recent call last)",
      "\u001b[1;32m<ipython-input-38-53b109d82fbd>\u001b[0m in \u001b[0;36m<module>\u001b[1;34m\u001b[0m\n\u001b[0;32m     23\u001b[0m \u001b[1;33m\u001b[0m\u001b[0m\n\u001b[0;32m     24\u001b[0m         \u001b[1;31m# hidden layer\u001b[0m\u001b[1;33m\u001b[0m\u001b[1;33m\u001b[0m\u001b[1;33m\u001b[0m\u001b[0m\n\u001b[1;32m---> 25\u001b[1;33m         \u001b[0mlayer_1\u001b[0m \u001b[1;33m=\u001b[0m \u001b[0msigmoid\u001b[0m\u001b[1;33m(\u001b[0m\u001b[0mnp\u001b[0m\u001b[1;33m.\u001b[0m\u001b[0mdot\u001b[0m\u001b[1;33m(\u001b[0m\u001b[0mx\u001b[0m\u001b[1;33m,\u001b[0m\u001b[0mwh\u001b[0m\u001b[1;33m)\u001b[0m \u001b[1;33m+\u001b[0m \u001b[0mnp\u001b[0m\u001b[1;33m.\u001b[0m\u001b[0mdot\u001b[0m\u001b[1;33m(\u001b[0m\u001b[0mlayer_1_values\u001b[0m\u001b[1;33m[\u001b[0m\u001b[1;33m-\u001b[0m\u001b[1;36m1\u001b[0m\u001b[1;33m]\u001b[0m\u001b[1;33m,\u001b[0m \u001b[0mw_time\u001b[0m\u001b[1;33m)\u001b[0m\u001b[1;33m)\u001b[0m\u001b[1;33m\u001b[0m\u001b[1;33m\u001b[0m\u001b[0m\n\u001b[0m\u001b[0;32m     26\u001b[0m \u001b[1;33m\u001b[0m\u001b[0m\n\u001b[0;32m     27\u001b[0m         \u001b[1;31m# output layer\u001b[0m\u001b[1;33m\u001b[0m\u001b[1;33m\u001b[0m\u001b[1;33m\u001b[0m\u001b[0m\n",
      "\u001b[1;31mKeyboardInterrupt\u001b[0m: "
     ]
    }
   ],
   "source": [
    "epochs = 100000\n",
    "for i in range(epochs):\n",
    "    a = np.random.randint(largest_num/2)\n",
    "    b = np.random.randint(largest_num/2)\n",
    "    \n",
    "    a_binary = int2binary[a]\n",
    "    b_binary = int2binary[b]\n",
    "    \n",
    "    c = a + b\n",
    "    c_binary = int2binary[c]\n",
    "    \n",
    "    d = np.zeros_like(c_binary)\n",
    "    \n",
    "    overallError = 0\n",
    "    \n",
    "    layer_2_deltas = list()\n",
    "    layer_1_values = list()\n",
    "    layer_1_values.append(np.zeros(hidden_neurons))\n",
    "    \n",
    "    for position in range(binary_dim):\n",
    "        x = np.array([[a_binary[binary_dim - position - 1], b_binary[binary_dim - position - 1]]])\n",
    "        y = np.array([[c_binary[binary_dim - position - 1]]]).T\n",
    "        \n",
    "        # hidden layer\n",
    "        layer_1 = sigmoid(np.dot(x,wh) + np.dot(layer_1_values[-1], w_time))\n",
    "        \n",
    "        # output layer\n",
    "        layer_2 = sigmoid(np.dot(layer_1, wout))\n",
    "        \n",
    "        layer_2_error = y - layer_2\n",
    "        slope_output = derivativeSigmoid(layer_2)\n",
    "        layer_2_deltas.append((layer_2_error) * slope_output)\n",
    "        \n",
    "        overallError += np.abs(layer_2_error[0])\n",
    "        \n",
    "        d[binary_dim - position - 1] = np.round(layer_2[0][0])\n",
    "        \n",
    "        # store hidden layer to use it in next timestep\n",
    "        layer_1_values.append(copy.deepcopy(layer_1))\n",
    "        \n",
    "    future_layer_1_delta = np.zeros(hidden_neurons)\n",
    "    \n",
    "    for position in range(binary_dim):\n",
    "        X = np.array([[a_binary[position], b_binary[position]]])\n",
    "        layer_1 = layer_1_values[-position - 1]\n",
    "        prev_layer_1 = layer_1_values[-position - 2]\n",
    "        \n",
    "        # error at output layer\n",
    "        layer_2_delta = layer_2_deltas[-position -  1]\n",
    "        # error at hidden layer\n",
    "        slope_hidden = derivativeSigmoid(layer_1)\n",
    "        layer_1_delta = (future_layer_1_delta.dot(w_time.T)) + layer_2_delta.dot(wout.T) * slope_hidden\n",
    "        \n",
    "        # updating weights\n",
    "        wout_update += np.atleast_2d(layer_1).T.dot(layer_2_delta)\n",
    "        wtime_update += np.atleast_2d(prev_layer_1).T.dot(layer_1_delta)\n",
    "        wh_update += X.T.dot(layer_1_delta)\n",
    "        \n",
    "        future_layer_1_delta = layer_1_delta\n",
    "    \n",
    "    wh += wh_update * learning_rate\n",
    "    wout += wout_update * learning_rate\n",
    "    w_time += wtime_update * learning_rate\n",
    "    \n",
    "    wout_update *= 0\n",
    "    wh_update *= 0\n",
    "    wtime_update *= 0\n",
    "    \n",
    "    if (i % 10000 == 0):\n",
    "        print(\"Error\",overallError)\n",
    "        print(\"Pred\",d)\n",
    "        print(\"True\",c_binary)\n",
    "        out = 0\n",
    "        for index, x in enumerate(reversed(d)):\n",
    "            out += x*pow(2, index)\n",
    "        print(\"True - {} + {} = {}\".format(a,b,c))\n",
    "        print(\"Pred - {} + {} = {}\".format(a,b,out))\n",
    "        print(\"#####################\")\n",
    "        \n",
    "        "
   ]
  },
  {
   "cell_type": "code",
   "execution_count": null,
   "metadata": {},
   "outputs": [],
   "source": []
  }
 ],
 "metadata": {
  "kernelspec": {
   "display_name": "Python 3",
   "language": "python",
   "name": "python3"
  },
  "language_info": {
   "codemirror_mode": {
    "name": "ipython",
    "version": 3
   },
   "file_extension": ".py",
   "mimetype": "text/x-python",
   "name": "python",
   "nbconvert_exporter": "python",
   "pygments_lexer": "ipython3",
   "version": "3.7.3"
  }
 },
 "nbformat": 4,
 "nbformat_minor": 2
}
